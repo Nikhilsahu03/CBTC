{
 "cells": [
  {
   "cell_type": "code",
   "execution_count": 4,
   "metadata": {},
   "outputs": [],
   "source": [
    "# imports module \n",
    "from reportlab.platypus import SimpleDocTemplate, Table, Paragraph, TableStyle \n",
    "from reportlab.lib import colors \n",
    "from reportlab.lib.pagesizes import A4 \n",
    "from reportlab.lib.styles import getSampleStyleSheet \n",
    "  \n",
    "# data which we are going to display as tables \n",
    "DATA = [ \n",
    "    [ \"Date\" , \"Name\", \"Subscription\", \"Price (Rs.)\" ], \n",
    "    [ \n",
    "        \"16/11/2020\", \n",
    "        \"Full Stack Development with React & Node JS - Live\", \n",
    "        \"Lifetime\", \n",
    "        \"10,999.00/-\", \n",
    "    ], \n",
    "    [ \"16/11/2020\", \"Geeks Classes: Live Session\", \"6 months\", \"9,999.00/-\"], \n",
    "    [ \"Sub Total\", \"\", \"\", \"20,9998.00/-\"], \n",
    "    [ \"Discount\", \"\", \"\", \"-3,000.00/-\"], \n",
    "    [ \"Total\", \"\", \"\", \"17,998.00/-\"], \n",
    "] \n",
    "  \n",
    "# creating a Base Document Template of page size A4 \n",
    "pdf = SimpleDocTemplate( \"receipt.pdf\" , pagesize = A4 ) \n",
    "  \n",
    "# standard stylesheet defined within reportlab itself \n",
    "styles = getSampleStyleSheet() \n",
    "  \n",
    "# fetching the style of Top level heading (Heading1) \n",
    "title_style = styles[ \"Heading1\" ] \n",
    "  \n",
    "# 0: left, 1: center, 2: right \n",
    "title_style.alignment = 1\n",
    "  \n",
    "# creating the paragraph with  \n",
    "# the heading text and passing the styles of it \n",
    "title = Paragraph( \"GeeksforGeeks\" , title_style ) \n",
    "  \n",
    "# creates a Table Style object and in it, \n",
    "# defines the styles row wise \n",
    "# the tuples which look like coordinates  \n",
    "# are nothing but rows and columns \n",
    "style = TableStyle( \n",
    "    [ \n",
    "        ( \"BOX\" , ( 0, 0 ), ( -1, -1 ), 1 , colors.black ), \n",
    "        ( \"GRID\" , ( 0, 0 ), ( 4 , 4 ), 1 , colors.black ), \n",
    "        ( \"BACKGROUND\" , ( 0, 0 ), ( 3, 0 ), colors.gray ), \n",
    "        ( \"TEXTCOLOR\" , ( 0, 0 ), ( -1, 0 ), colors.whitesmoke ), \n",
    "        ( \"ALIGN\" , ( 0, 0 ), ( -1, -1 ), \"CENTER\" ), \n",
    "        ( \"BACKGROUND\" , ( 0 , 1 ) , ( -1 , -1 ), colors.beige ), \n",
    "    ] \n",
    ") \n",
    "  \n",
    "# creates a table object and passes the style to it \n",
    "table = Table( DATA , style = style ) \n",
    "  \n",
    "# final step which builds the \n",
    "# actual pdf putting together all the elements \n",
    "pdf.build([ title , table ]) "
   ]
  },
  {
   "cell_type": "code",
   "execution_count": null,
   "metadata": {},
   "outputs": [],
   "source": []
  }
 ],
 "metadata": {
  "kernelspec": {
   "display_name": "Python 3",
   "language": "python",
   "name": "python3"
  },
  "language_info": {
   "codemirror_mode": {
    "name": "ipython",
    "version": 3
   },
   "file_extension": ".py",
   "mimetype": "text/x-python",
   "name": "python",
   "nbconvert_exporter": "python",
   "pygments_lexer": "ipython3",
   "version": "3.12.4"
  }
 },
 "nbformat": 4,
 "nbformat_minor": 2
}
